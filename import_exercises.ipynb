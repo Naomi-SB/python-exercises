{
 "cells": [
  {
   "cell_type": "code",
   "execution_count": 1,
   "id": "f0c19463",
   "metadata": {},
   "outputs": [],
   "source": [
    "#Create a jupyter notebook named import_exercises.ipynb. \n",
    "#Use from to import the get_letter_grade function and give it an alias. \n",
    "#Test this function in your notebook.\n",
    "\n",
    "from function_exercises import get_letter_grade as letgrd\n"
   ]
  },
  {
   "cell_type": "code",
   "execution_count": 2,
   "id": "b468260e",
   "metadata": {},
   "outputs": [
    {
     "data": {
      "text/plain": [
       "'F'"
      ]
     },
     "execution_count": 2,
     "metadata": {},
     "output_type": "execute_result"
    }
   ],
   "source": [
    "letgrd(50)"
   ]
  },
  {
   "cell_type": "code",
   "execution_count": 3,
   "id": "a143b110",
   "metadata": {},
   "outputs": [
    {
     "data": {
      "text/plain": [
       "'A'"
      ]
     },
     "execution_count": 3,
     "metadata": {},
     "output_type": "execute_result"
    }
   ],
   "source": [
    "letgrd(90)"
   ]
  },
  {
   "cell_type": "code",
   "execution_count": null,
   "id": "7e143cdb",
   "metadata": {},
   "outputs": [],
   "source": [
    "\n",
    "#Number of active users\n",
    "#Number of inactive users\n",
    "#Grand total of balances for all users\n",
    "#Average balance per user\n",
    "#User with the lowest balance\n",
    "#User with the highest balance\n",
    "#Most common favorite fruit\n",
    "#Least most common favorite fruit\n",
    "#Total number of unread messages for all users"
   ]
  },
  {
   "cell_type": "code",
   "execution_count": 4,
   "id": "e71de7e0",
   "metadata": {},
   "outputs": [],
   "source": [
    "import json\n"
   ]
  },
  {
   "cell_type": "code",
   "execution_count": 6,
   "id": "4f521b10",
   "metadata": {},
   "outputs": [],
   "source": [
    "\n",
    "people = json.load(open('profiles.json'))"
   ]
  },
  {
   "cell_type": "code",
   "execution_count": 17,
   "id": "cf792af3",
   "metadata": {},
   "outputs": [
    {
     "data": {
      "text/plain": [
       "{'_id': '54e23c3e46ab53a440b580e8',\n",
       " 'index': 0,\n",
       " 'guid': '9962b468-ef3e-4993-b677-617469bc3008',\n",
       " 'isActive': False,\n",
       " 'balance': '$2,097.02',\n",
       " 'picture': 'http://placehold.it/32x32',\n",
       " 'age': 39,\n",
       " 'eyeColor': 'blue',\n",
       " 'name': 'Hebert Estes',\n",
       " 'gender': 'male',\n",
       " 'company': 'ANDRYX',\n",
       " 'email': 'hebertestes@andryx.com',\n",
       " 'phone': '+1 (866) 456-2268',\n",
       " 'address': '121 Emmons Avenue, Klondike, Kentucky, 5975',\n",
       " 'about': 'Sit cillum deserunt irure laboris tempor fugiat laboris. Amet commodo amet est incididunt. Dolore qui fugiat cillum pariatur dolore excepteur elit ipsum.\\r\\n',\n",
       " 'registered': '2014-11-10T01:44:03 +06:00',\n",
       " 'latitude': -80.157843,\n",
       " 'longitude': 161.93016,\n",
       " 'tags': ['sit', 'occaecat', 'non', 'ea', 'sit', 'laboris', 'exercitation'],\n",
       " 'friends': [{'id': 0, 'name': 'Tanisha Leonard'},\n",
       "  {'id': 1, 'name': 'Dennis Wilson'},\n",
       "  {'id': 2, 'name': 'Lupe Howe'}],\n",
       " 'greeting': 'Hello, Hebert Estes! You have 4 unread messages.',\n",
       " 'favoriteFruit': 'strawberry'}"
      ]
     },
     "execution_count": 17,
     "metadata": {},
     "output_type": "execute_result"
    }
   ],
   "source": [
    "people[0]"
   ]
  },
  {
   "cell_type": "code",
   "execution_count": 16,
   "id": "2a61269b",
   "metadata": {},
   "outputs": [
    {
     "data": {
      "text/plain": [
       "19"
      ]
     },
     "execution_count": 16,
     "metadata": {},
     "output_type": "execute_result"
    }
   ],
   "source": [
    "#Total number of users\n",
    "len(people)"
   ]
  },
  {
   "cell_type": "code",
   "execution_count": 27,
   "id": "2e8162a7",
   "metadata": {},
   "outputs": [],
   "source": [
    "#Number of active users\n",
    "activity = [sub['isActive'] for sub in people]"
   ]
  },
  {
   "cell_type": "code",
   "execution_count": 25,
   "id": "00674af0",
   "metadata": {},
   "outputs": [],
   "source": [
    "#res = [ sub['gfg'] for sub in test_list ]"
   ]
  },
  {
   "cell_type": "code",
   "execution_count": 29,
   "id": "6c009dde",
   "metadata": {},
   "outputs": [
    {
     "name": "stdout",
     "output_type": "stream",
     "text": [
      "[False, False, True, False, False, True, False, False, False, True, True, True, False, True, True, False, False, True, True]\n"
     ]
    }
   ],
   "source": [
    "print(activity)"
   ]
  },
  {
   "cell_type": "code",
   "execution_count": 31,
   "id": "9217aceb",
   "metadata": {},
   "outputs": [
    {
     "ename": "AttributeError",
     "evalue": "'list' object has no attribute 'items'",
     "output_type": "error",
     "traceback": [
      "\u001b[0;31m---------------------------------------------------------------------------\u001b[0m",
      "\u001b[0;31mAttributeError\u001b[0m                            Traceback (most recent call last)",
      "Input \u001b[0;32mIn [31]\u001b[0m, in \u001b[0;36m<cell line: 2>\u001b[0;34m()\u001b[0m\n\u001b[1;32m      1\u001b[0m \u001b[38;5;66;03m#[k for k,v in dict1.items() if v == 'y']\u001b[39;00m\n\u001b[0;32m----> 2\u001b[0m [i \u001b[38;5;28;01mfor\u001b[39;00m i, h \u001b[38;5;129;01min\u001b[39;00m \u001b[43mpeople\u001b[49m\u001b[38;5;241;43m.\u001b[39;49m\u001b[43mitems\u001b[49m() \u001b[38;5;28;01mif\u001b[39;00m h \u001b[38;5;241m==\u001b[39m \u001b[38;5;124m'\u001b[39m\u001b[38;5;124mTrue\u001b[39m\u001b[38;5;124m'\u001b[39m]\n",
      "\u001b[0;31mAttributeError\u001b[0m: 'list' object has no attribute 'items'"
     ]
    }
   ],
   "source": [
    "#[k for k,v in dict1.items() if v == 'y']\n",
    "[i for i, h in people.items() if h == 'True']"
   ]
  },
  {
   "cell_type": "code",
   "execution_count": 32,
   "id": "80616e4c",
   "metadata": {},
   "outputs": [],
   "source": [
    "import itertools"
   ]
  },
  {
   "cell_type": "code",
   "execution_count": 33,
   "id": "037d6503",
   "metadata": {},
   "outputs": [
    {
     "data": {
      "text/plain": [
       "['A', 'B', 'C', 'D', 'E', 'F']"
      ]
     },
     "execution_count": 33,
     "metadata": {},
     "output_type": "execute_result"
    }
   ],
   "source": [
    "list(itertools.chain('ABC', 'DEF'))"
   ]
  },
  {
   "cell_type": "code",
   "execution_count": 34,
   "id": "0a20e515",
   "metadata": {},
   "outputs": [
    {
     "data": {
      "text/plain": [
       "9"
      ]
     },
     "execution_count": 34,
     "metadata": {},
     "output_type": "execute_result"
    }
   ],
   "source": [
    "len(list(itertools.product('abc', '123')))"
   ]
  },
  {
   "cell_type": "code",
   "execution_count": 35,
   "id": "35107aff",
   "metadata": {},
   "outputs": [
    {
     "data": {
      "text/plain": [
       "6"
      ]
     },
     "execution_count": 35,
     "metadata": {},
     "output_type": "execute_result"
    }
   ],
   "source": [
    "#How many different combinations are there of 2 letters from \"abcd\"?\n",
    "len(list(itertools.combinations('ABCD', 2)))"
   ]
  },
  {
   "cell_type": "code",
   "execution_count": 36,
   "id": "0010608b",
   "metadata": {},
   "outputs": [
    {
     "data": {
      "text/plain": [
       "12"
      ]
     },
     "execution_count": 36,
     "metadata": {},
     "output_type": "execute_result"
    }
   ],
   "source": [
    "# How many different permutations are there of 2 letters from \"abcd\"?\n",
    "len(list(itertools.permutations('ABCD', 2)))"
   ]
  },
  {
   "cell_type": "code",
   "execution_count": null,
   "id": "0960c1c0",
   "metadata": {},
   "outputs": [],
   "source": []
  }
 ],
 "metadata": {
  "kernelspec": {
   "display_name": "Python 3 (ipykernel)",
   "language": "python",
   "name": "python3"
  },
  "language_info": {
   "codemirror_mode": {
    "name": "ipython",
    "version": 3
   },
   "file_extension": ".py",
   "mimetype": "text/x-python",
   "name": "python",
   "nbconvert_exporter": "python",
   "pygments_lexer": "ipython3",
   "version": "3.9.12"
  }
 },
 "nbformat": 4,
 "nbformat_minor": 5
}

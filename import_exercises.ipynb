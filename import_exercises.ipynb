{
 "cells": [
  {
   "cell_type": "code",
   "execution_count": null,
   "id": "f0c19463",
   "metadata": {},
   "outputs": [],
   "source": [
    "#Create a jupyter notebook named import_exercises.ipynb. \n",
    "#Use from to import the get_letter_grade function and give it an alias. \n",
    "#Test this function in your notebook.\n",
    "\n",
    "from function_exercises import get_letter_grade as letgrd\n"
   ]
  },
  {
   "cell_type": "code",
   "execution_count": null,
   "id": "b468260e",
   "metadata": {},
   "outputs": [],
   "source": [
    "letgrd(50)"
   ]
  },
  {
   "cell_type": "code",
   "execution_count": null,
   "id": "a143b110",
   "metadata": {},
   "outputs": [],
   "source": [
    "letgrd(90)"
   ]
  },
  {
   "cell_type": "code",
   "execution_count": null,
   "id": "80616e4c",
   "metadata": {},
   "outputs": [],
   "source": [
    "import itertools"
   ]
  },
  {
   "cell_type": "code",
   "execution_count": null,
   "id": "0a20e515",
   "metadata": {},
   "outputs": [],
   "source": [
    "len(list(itertools.product('abc', '123')))"
   ]
  },
  {
   "cell_type": "code",
   "execution_count": null,
   "id": "35107aff",
   "metadata": {},
   "outputs": [],
   "source": [
    "#How many different combinations are there of 2 letters from \"abcd\"?\n",
    "len(list(itertools.combinations('ABCD', 2)))"
   ]
  },
  {
   "cell_type": "code",
   "execution_count": null,
   "id": "0010608b",
   "metadata": {},
   "outputs": [],
   "source": [
    "# How many different permutations are there of 2 letters from \"abcd\"?\n",
    "len(list(itertools.permutations('ABCD', 2)))"
   ]
  },
  {
   "cell_type": "code",
   "execution_count": null,
   "id": "b63c5959",
   "metadata": {},
   "outputs": [],
   "source": [
    "\n",
    "#Number of active users\n",
    "#Number of inactive users\n",
    "#Grand total of balances for all users\n",
    "#Average balance per user\n",
    "#User with the lowest balance\n",
    "#User with the highest balance\n",
    "#Most common favorite fruit\n",
    "#Least most common favorite fruit\n",
    "#Total number of unread messages for all users"
   ]
  },
  {
   "cell_type": "code",
   "execution_count": null,
   "id": "0960c1c0",
   "metadata": {},
   "outputs": [],
   "source": [
    "import json\n",
    "profiles = json.load(open('profiles.json'))\n"
   ]
  },
  {
   "cell_type": "code",
   "execution_count": null,
   "id": "96d04769",
   "metadata": {},
   "outputs": [],
   "source": [
    "profiles[0]"
   ]
  },
  {
   "cell_type": "code",
   "execution_count": null,
   "id": "e9334a4d",
   "metadata": {},
   "outputs": [],
   "source": [
    "#total number of users:\n",
    "len(profiles)"
   ]
  },
  {
   "cell_type": "code",
   "execution_count": null,
   "id": "f49459ef",
   "metadata": {},
   "outputs": [],
   "source": [
    "# how many active users\n",
    "count = 0\n",
    "\n",
    "for profile in profiles:\n",
    "    if profile['isActive'] == True:\n",
    "        count += 1\n",
    "print (count)"
   ]
  },
  {
   "cell_type": "code",
   "execution_count": null,
   "id": "7b7e66e2",
   "metadata": {},
   "outputs": [],
   "source": [
    "# how many inactive users\n",
    "count = 0\n",
    "\n",
    "for profile in profiles:\n",
    "    if profile['isActive'] == False:\n",
    "        count += 1\n",
    "print (count)"
   ]
  },
  {
   "cell_type": "code",
   "execution_count": null,
   "id": "9502ceaf",
   "metadata": {},
   "outputs": [],
   "source": [
    "#grand total of balancces for all users\n",
    "profile['balance'].strip('$').replace(',','')\n",
    "\n",
    "grand_total = 0\n",
    "for profile in profiles:\n",
    "    user_balance = float(profile['balance'].strip('$').replace(',',''))\n",
    "    grand_total = grand_total + user_balance\n",
    "print(grand_total)"
   ]
  },
  {
   "cell_type": "code",
   "execution_count": null,
   "id": "55582704",
   "metadata": {},
   "outputs": [],
   "source": [
    "#average balance\n",
    "round(grand_total/len(profiles), 2)"
   ]
  },
  {
   "cell_type": "code",
   "execution_count": null,
   "id": "e5883271",
   "metadata": {},
   "outputs": [],
   "source": [
    "#user with the lowest balance\n",
    "balance_ls = []\n",
    "\n",
    "for profile in profiles:\n",
    "    user_balance = profile['balance'].strip('$').replace(',','')\n",
    "    print (user_balance)\n",
    "    balance_ls.append(user_balance)\n",
    "    "
   ]
  },
  {
   "cell_type": "code",
   "execution_count": null,
   "id": "fcf9b4a4",
   "metadata": {},
   "outputs": [],
   "source": [
    "min(balance_ls)"
   ]
  },
  {
   "cell_type": "code",
   "execution_count": null,
   "id": "0783b47a",
   "metadata": {},
   "outputs": [],
   "source": [
    "for profile in profiles:\n",
    "    if profile['balance'].strip('$').replace(',' , '')== min(balance_ls)\n",
    "    print(f'user{profile(\"name\")})"
   ]
  },
  {
   "cell_type": "code",
   "execution_count": null,
   "id": "906c9449",
   "metadata": {},
   "outputs": [],
   "source": [
    "#user with the highest balance\n",
    "for profile in profiles:\n",
    "    if profile['balance'].strip('$').replace(',', '') == max(balance_ls):\n",
    "        print(f'User {profile[\"name\"]} has the most amount of cash: {profile[\"balance\"]}')"
   ]
  },
  {
   "cell_type": "code",
   "execution_count": null,
   "id": "d54d1495",
   "metadata": {},
   "outputs": [],
   "source": [
    "#which is the most common favorite fruit?\n",
    "max(fruits, key=fruits.count)"
   ]
  },
  {
   "cell_type": "code",
   "execution_count": null,
   "id": "5e9622cc",
   "metadata": {},
   "outputs": [],
   "source": [
    "#least common fruit\n",
    "min(fruits, key=fruits.count)"
   ]
  },
  {
   "cell_type": "code",
   "execution_count": null,
   "id": "025f5a0a",
   "metadata": {},
   "outputs": [],
   "source": [
    "message = profile['greeting'].split(' ')\n"
   ]
  },
  {
   "cell_type": "code",
   "execution_count": null,
   "id": "1fd4d860",
   "metadata": {},
   "outputs": [],
   "source": [
    "message"
   ]
  },
  {
   "cell_type": "code",
   "execution_count": null,
   "id": "d66abe54",
   "metadata": {},
   "outputs": [],
   "source": [
    "for word in message:\n",
    "    if word.isdigit():\n",
    "        print('This is a number: ', word)\n",
    "        "
   ]
  },
  {
   "cell_type": "code",
   "execution_count": null,
   "id": "a1647768",
   "metadata": {},
   "outputs": [],
   "source": [
    "sum_messages = 0\n",
    "\n",
    "for profile in profiles:\n",
    "    m = profile['greeting'].split(' ')\n",
    "    for word in m:\n",
    "        if word.isdigit():\n",
    "            sum_messages = sum_messages + int(word)\n",
    "\n",
    "sum_messages"
   ]
  }
 ],
 "metadata": {
  "kernelspec": {
   "display_name": "Python 3 (ipykernel)",
   "language": "python",
   "name": "python3"
  },
  "language_info": {
   "codemirror_mode": {
    "name": "ipython",
    "version": 3
   },
   "file_extension": ".py",
   "mimetype": "text/x-python",
   "name": "python",
   "nbconvert_exporter": "python",
   "pygments_lexer": "ipython3",
   "version": "3.9.12"
  }
 },
 "nbformat": 4,
 "nbformat_minor": 5
}

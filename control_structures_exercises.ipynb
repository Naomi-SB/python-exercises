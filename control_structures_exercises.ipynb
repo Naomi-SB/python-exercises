{
 "cells": [
  {
   "cell_type": "code",
   "execution_count": null,
   "id": "daa0e9ae",
   "metadata": {},
   "outputs": [],
   "source": []
  },
  {
   "cell_type": "code",
   "execution_count": null,
   "id": "aad97139",
   "metadata": {},
   "outputs": [],
   "source": [
    "# question 1.a\n",
    "day_of_the_week = input(\"What day is it? \")\n",
    "if day_of_the_week == \"Monday\":\n",
    "    print (\"Today is Monday\")\n",
    "else:\n",
    "    print(\"Today is not Monday\")\n",
    "\n",
    "\n"
   ]
  },
  {
   "cell_type": "code",
   "execution_count": null,
   "id": "497708a3",
   "metadata": {},
   "outputs": [],
   "source": [
    "# question 1.b\n",
    "weekdays = [\"Monday\", \"Tuesday\", \"Wednesday\", \"Thursday\", \"Friday\"]\n",
    "weekends = [\"Saturday\", \"Sunday\"]\n",
    "\n",
    "day = input(\"What day is it? \")\n",
    "\n",
    "if day in weekdays:\n",
    "    print(\"Today is a weekday\")\n",
    "if day in weekends:\n",
    "    print(\"Today is a weekend\")\n",
    "else:\n",
    "    print(\"Please input a day of the week\")\n",
    "        "
   ]
  },
  {
   "cell_type": "code",
   "execution_count": null,
   "id": "af5b3d39",
   "metadata": {},
   "outputs": [],
   "source": [
    "# 1.c\n",
    "hours_worked = int(input(\"How many hours did you work this week? \"))\n",
    "hourly_rate = int(input(\"How much do you get paid per hour? \"))\n",
    "pay = (hours_worked * hourly_rate)\n",
    "overtime = (pay + pay * 0.5)\n",
    "\n",
    "if hours_worked > 40:\n",
    "    print(f'Your pay this week will be ${overtime}')\n",
    "else:\n",
    "    print(f'Your pay this week will be ${pay}')"
   ]
  },
  {
   "cell_type": "code",
   "execution_count": null,
   "id": "bb76a57d",
   "metadata": {},
   "outputs": [],
   "source": [
    "# question 2, while loop one\n",
    "number = 5\n",
    "\n",
    "while number <= 15:\n",
    "    print(number)\n",
    "    number += 1"
   ]
  },
  {
   "cell_type": "code",
   "execution_count": null,
   "id": "617d0482",
   "metadata": {},
   "outputs": [],
   "source": [
    "#question 2, while loop two\n",
    "#Create a while loop that will count by 2's starting with 0 and ending at 100. Follow each number with a new line.\n",
    "number = 0\n",
    "\n",
    "while number <= 100:\n",
    "    print(number)\n",
    "    print ()\n",
    "    number += 2\n"
   ]
  },
  {
   "cell_type": "code",
   "execution_count": null,
   "id": "76d880fa",
   "metadata": {},
   "outputs": [],
   "source": [
    "# question 2, while loop three: Alter your loop to count backwards by 5's from 100 to -10.\n",
    "number = 100\n",
    "while number >= -10:\n",
    "    print(number)\n",
    "    number -= 5\n"
   ]
  },
  {
   "cell_type": "code",
   "execution_count": null,
   "id": "d7cc382e",
   "metadata": {},
   "outputs": [],
   "source": [
    "#question 2, while loop four:\n",
    "#Create a while loop that starts at 2, and displays the number squared on each line while the number is less than 1,000,000. Output should equal:\n",
    "\n",
    "number = 2\n",
    "\n",
    "while number < 1000000:\n",
    "    print(number)\n",
    "    number **= 2\n",
    "    "
   ]
  },
  {
   "cell_type": "code",
   "execution_count": null,
   "id": "b1771ce6",
   "metadata": {},
   "outputs": [],
   "source": [
    "#question 2, while loop five, \n",
    "#\n",
    "number = 100\n",
    "while number >= 0:\n",
    "    print(number)\n",
    "    number -= 5"
   ]
  },
  {
   "cell_type": "code",
   "execution_count": 1,
   "id": "1b92fd69",
   "metadata": {},
   "outputs": [
    {
     "name": "stdout",
     "output_type": "stream",
     "text": [
      "Select a number 1-10:  9\n",
      " 9 x 1, = 9\n",
      " 9 x 2, = 18\n",
      " 9 x 3, = 27\n",
      " 9 x 4, = 36\n",
      " 9 x 5, = 45\n",
      " 9 x 6, = 54\n",
      " 9 x 7, = 63\n",
      " 9 x 8, = 72\n",
      " 9 x 9, = 81\n",
      " 9 x 10, = 90\n"
     ]
    }
   ],
   "source": [
    "# question 2, for loop i:\n",
    "#Write some code that prompts the user for a number, then shows a multiplication table up through 10 for that number.\n",
    "\n",
    "number = input(\"Select a number 1-10:  \")\n",
    "\n",
    "for i in range (1, 11):\n",
    "    print (f' {number} x {i}, = {int(number) * i}')"
   ]
  },
  {
   "cell_type": "code",
   "execution_count": null,
   "id": "d73b0a25",
   "metadata": {},
   "outputs": [],
   "source": [
    "# question 2, for loop ii:\n",
    "# write a code that prints the following:\n",
    "# 1\n",
    "# 22\n",
    "# 333\n",
    "# 4444\n",
    "# 55555\n",
    "# 666666\n",
    "# 7777777\n",
    "# 88888888\n",
    "# 999999999\n",
    "i = 0\n",
    "for i in range (1, 10):\n",
    "    print(str(i)*i)"
   ]
  },
  {
   "cell_type": "code",
   "execution_count": 2,
   "id": "ac24e9d9",
   "metadata": {},
   "outputs": [
    {
     "name": "stdout",
     "output_type": "stream",
     "text": [
      "Please enter a positive number: 9\n",
      "This is a digit\n",
      "The number is positive!\n",
      "9\n",
      "8\n",
      "7\n",
      "6\n",
      "5\n",
      "4\n",
      "3\n",
      "2\n",
      "1\n"
     ]
    }
   ],
   "source": [
    "#2, break and continue i: \n",
    "#Write a program that prompts the user for a positive integer. \n",
    "#Next write a loop that prints out the numbers from the number the user entered down to 1.\n",
    "\n",
    "while True:\n",
    "    user_num = input('Please enter a positive number: ')\n",
    "    \n",
    "    if user_num.isdigit() == True:\n",
    "        print('This is a digit')\n",
    "        if int(user_num) > 0:\n",
    "            print('The number is positive!')\n",
    "            break\n",
    "            \n",
    "user_num = int(user_num)\n",
    "for i in range(user_num, 0, -1):\n",
    "    print(i)"
   ]
  },
  {
   "cell_type": "code",
   "execution_count": 3,
   "id": "d709903f",
   "metadata": {},
   "outputs": [
    {
     "name": "stdout",
     "output_type": "stream",
     "text": [
      "Please enter a positive number: 9\n",
      "This is a digit\n",
      "The number is positive!\n",
      "0\n",
      "1\n",
      "2\n",
      "3\n",
      "4\n",
      "5\n",
      "6\n",
      "7\n",
      "8\n",
      "9\n"
     ]
    }
   ],
   "source": [
    "# 2, break and continue ii:\n",
    "#Prompt the user to enter a positive number and write a loop that counts from 0 to that number.\n",
    "\n",
    "while True:\n",
    "    user_num = input('Please enter a positive number: ')\n",
    "    \n",
    "    if user_num.isdigit() == True:\n",
    "        print('This is a digit')\n",
    "        if int(user_num) > 0:\n",
    "            print('The number is positive!')\n",
    "            break\n",
    "            \n",
    "for i in range(int(user_num)+1):\n",
    "    print(i)\n",
    "   "
   ]
  },
  {
   "cell_type": "code",
   "execution_count": 5,
   "id": "22d47e50",
   "metadata": {},
   "outputs": [
    {
     "name": "stdout",
     "output_type": "stream",
     "text": [
      "Enter an odd number between 1 and 50: 9\n",
      "This is a digit\n",
      "This is an odd number\n",
      "This number is between 1 and 50\n"
     ]
    }
   ],
   "source": [
    "# 2, break and continue iii:\n",
    "# odd numbers 1-50 except skipped input number\n",
    "while True:\n",
    "    user_num = input('Enter an odd number between 1 and 50: ')\n",
    "    \n",
    "    if user_num.isdigit():\n",
    "        print('This is a digit')\n",
    "        if int(user_num) % 2 != 0:\n",
    "            print('This is an odd number')\n",
    "            if (int(user_num) > 1) and (int(user_num) < 50):\n",
    "                print('This number is between 1 and 50')\n",
    "                break\n",
    " "
   ]
  },
  {
   "cell_type": "code",
   "execution_count": 4,
   "id": "6484e575",
   "metadata": {},
   "outputs": [
    {
     "name": "stdout",
     "output_type": "stream",
     "text": [
      "1\n",
      "3\n",
      "5\n",
      "7\n",
      "We skipped this!\n",
      "11\n",
      "13\n",
      "15\n",
      "17\n",
      "19\n",
      "21\n",
      "23\n",
      "25\n",
      "27\n",
      "29\n",
      "31\n",
      "33\n",
      "35\n",
      "37\n",
      "39\n",
      "41\n",
      "43\n",
      "45\n",
      "47\n",
      "49\n"
     ]
    }
   ],
   "source": [
    "user_num = int(user_num)\n",
    "                \n",
    "for i in range(1,50):\n",
    "    if i == user_num:\n",
    "        print('We skipped this!')\n",
    "        continue\n",
    "    if i % 2 == 1:\n",
    "        print(i)"
   ]
  },
  {
   "cell_type": "code",
   "execution_count": null,
   "id": "a8dae297",
   "metadata": {},
   "outputs": [],
   "source": [
    "#Fizzbuzz\n",
    "for i in range(1,101):\n",
    "    if i % 15 == 0:\n",
    "        print('FizzBuzz')\n",
    "        continue\n",
    "    if i % 3 == 0:\n",
    "        print('Fizz')\n",
    "        continue\n",
    "    if i % 5 == 0:\n",
    "        print('Buzz')\n",
    "        continue\n",
    "    print(i)"
   ]
  },
  {
   "cell_type": "code",
   "execution_count": null,
   "id": "7b128647",
   "metadata": {},
   "outputs": [],
   "source": []
  },
  {
   "cell_type": "code",
   "execution_count": null,
   "id": "fdd28d2a",
   "metadata": {},
   "outputs": [],
   "source": [
    "while True:\n",
    "    user_num = int(input(\"Enter a number: \"))\n",
    "\n",
    "    for i in range(1, user_num +1):\n",
    "        print(f'{i}  |{i**2}   |{i**3}')\n",
    "    user_yn = input(\"Would you like to continue? (y/n) \")\n",
    "    if user_yn.lower() !='y':\n",
    "        break\n",
    "         \n"
   ]
  },
  {
   "cell_type": "code",
   "execution_count": null,
   "id": "b855ce22",
   "metadata": {},
   "outputs": [],
   "source": [
    "#convert given number into letter grade\n",
    "while True:\n",
    "    user_grade = int(input(\"enter a numerical grade 0-100\"))\n",
    "\n",
    "    if user_grade >= 88:\n",
    "        print('A')\n",
    "    elif user_grade >= 80:\n",
    "        print('B')\n",
    "    elif user_grade >= 67:\n",
    "        print('C')\n",
    "    elif user_grade >= 60:\n",
    "        print ('D')\n",
    "    else:\n",
    "        print('F')\n",
    "    user_yn = input(\"would you like to continue? (y/n)\")\n",
    "    if"
   ]
  },
  {
   "cell_type": "code",
   "execution_count": null,
   "id": "3ecdb2de",
   "metadata": {},
   "outputs": [],
   "source": []
  }
 ],
 "metadata": {
  "kernelspec": {
   "display_name": "Python 3 (ipykernel)",
   "language": "python",
   "name": "python3"
  },
  "language_info": {
   "codemirror_mode": {
    "name": "ipython",
    "version": 3
   },
   "file_extension": ".py",
   "mimetype": "text/x-python",
   "name": "python",
   "nbconvert_exporter": "python",
   "pygments_lexer": "ipython3",
   "version": "3.9.12"
  }
 },
 "nbformat": 4,
 "nbformat_minor": 5
}

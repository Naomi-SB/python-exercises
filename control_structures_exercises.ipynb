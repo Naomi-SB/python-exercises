{
 "cells": [
  {
   "cell_type": "code",
   "execution_count": null,
   "id": "daa0e9ae",
   "metadata": {},
   "outputs": [],
   "source": []
  },
  {
   "cell_type": "code",
   "execution_count": null,
   "id": "aad97139",
   "metadata": {},
   "outputs": [],
   "source": [
    "# question 1.a\n",
    "day_of_the_week = input(\"What day is it? \")\n",
    "if day_of_the_week == \"Monday\":\n",
    "    print (\"Today is Monday\")\n",
    "else:\n",
    "    print(\"Today is not Monday\")\n",
    "\n",
    "\n"
   ]
  },
  {
   "cell_type": "code",
   "execution_count": null,
   "id": "497708a3",
   "metadata": {},
   "outputs": [],
   "source": [
    "# question 1.b\n",
    "weekdays = [\"Monday\", \"Tuesday\", \"Wednesday\", \"Thursday\", \"Friday\"]\n",
    "weekends = [\"Saturday\", \"Sunday\"]\n",
    "\n",
    "day = input(\"What day is it? \")\n",
    "\n",
    "if day in weekdays:\n",
    "    print(\"Today is a weekday\")\n",
    "if day in weekends:\n",
    "    print(\"Today is a weekend\")\n",
    "else:\n",
    "    print(\"Please input a day of the week\")\n",
    "        "
   ]
  },
  {
   "cell_type": "code",
   "execution_count": null,
   "id": "af5b3d39",
   "metadata": {},
   "outputs": [],
   "source": [
    "# 1.c\n",
    "hours_worked = int(input(\"How many hours did you work this week? \"))\n",
    "hourly_rate = int(input(\"How much do you get paid per hour? \"))\n",
    "pay = (hours_worked * hourly_rate)\n",
    "overtime = (pay + pay * 0.5)\n",
    "\n",
    "if hours_worked > 40:\n",
    "    print(f'Your pay this week will be ${overtime}')\n",
    "else:\n",
    "    print(f'Your pay this week will be ${pay}')"
   ]
  },
  {
   "cell_type": "code",
   "execution_count": null,
   "id": "bb76a57d",
   "metadata": {},
   "outputs": [],
   "source": [
    "# question 2, while loop one\n",
    "number = 5\n",
    "\n",
    "while number <= 15:\n",
    "    print(number)\n",
    "    number += 1"
   ]
  },
  {
   "cell_type": "code",
   "execution_count": null,
   "id": "617d0482",
   "metadata": {},
   "outputs": [],
   "source": [
    "#question 2, while loop two\n",
    "#Create a while loop that will count by 2's starting with 0 and ending at 100. Follow each number with a new line.\n",
    "number = 0\n",
    "\n",
    "while number <= 100:\n",
    "    print(number)\n",
    "    print ()\n",
    "    number += 2\n"
   ]
  },
  {
   "cell_type": "code",
   "execution_count": null,
   "id": "76d880fa",
   "metadata": {},
   "outputs": [],
   "source": [
    "# question 2, while loop three: Alter your loop to count backwards by 5's from 100 to -10.\n",
    "number = 100\n",
    "while number >= -10:\n",
    "    print(number)\n",
    "    number -= 5\n"
   ]
  },
  {
   "cell_type": "code",
   "execution_count": 1,
   "id": "d7cc382e",
   "metadata": {},
   "outputs": [
    {
     "name": "stdout",
     "output_type": "stream",
     "text": [
      "2\n",
      "4\n",
      "16\n",
      "256\n",
      "65536\n"
     ]
    }
   ],
   "source": [
    "#question 2, while loop four:\n",
    "#Create a while loop that starts at 2, and displays the number squared on each line while the number is less than 1,000,000. Output should equal:\n",
    "\n",
    "number = 2\n",
    "\n",
    "while number < 1000000:\n",
    "    print(number)\n",
    "    number **= 2\n",
    "    "
   ]
  },
  {
   "cell_type": "code",
   "execution_count": 2,
   "id": "b1771ce6",
   "metadata": {},
   "outputs": [
    {
     "name": "stdout",
     "output_type": "stream",
     "text": [
      "100\n",
      "95\n",
      "90\n",
      "85\n",
      "80\n",
      "75\n",
      "70\n",
      "65\n",
      "60\n",
      "55\n",
      "50\n",
      "45\n",
      "40\n",
      "35\n",
      "30\n",
      "25\n",
      "20\n",
      "15\n",
      "10\n",
      "5\n",
      "0\n"
     ]
    }
   ],
   "source": [
    "#question 2, while loop five, \n",
    "#\n",
    "number = 100\n",
    "while number >= 0:\n",
    "    print(number)\n",
    "    number -= 5"
   ]
  },
  {
   "cell_type": "code",
   "execution_count": 3,
   "id": "1b92fd69",
   "metadata": {},
   "outputs": [
    {
     "name": "stdout",
     "output_type": "stream",
     "text": [
      "Select a number 1-10:  \n"
     ]
    },
    {
     "ename": "ValueError",
     "evalue": "invalid literal for int() with base 10: ''",
     "output_type": "error",
     "traceback": [
      "\u001b[0;31m---------------------------------------------------------------------------\u001b[0m",
      "\u001b[0;31mValueError\u001b[0m                                Traceback (most recent call last)",
      "Input \u001b[0;32mIn [3]\u001b[0m, in \u001b[0;36m<cell line: 4>\u001b[0;34m()\u001b[0m\n\u001b[1;32m      1\u001b[0m \u001b[38;5;66;03m# question 2, for loop i:\u001b[39;00m\n\u001b[1;32m      2\u001b[0m \u001b[38;5;66;03m#Write some code that prompts the user for a number, then shows a multiplication table up through 10 for that number.\u001b[39;00m\n\u001b[0;32m----> 4\u001b[0m number \u001b[38;5;241m=\u001b[39m \u001b[38;5;28;43mint\u001b[39;49m\u001b[43m(\u001b[49m\u001b[38;5;28;43minput\u001b[39;49m\u001b[43m(\u001b[49m\u001b[38;5;124;43m\"\u001b[39;49m\u001b[38;5;124;43mSelect a number 1-10:  \u001b[39;49m\u001b[38;5;124;43m\"\u001b[39;49m\u001b[43m)\u001b[49m\u001b[43m)\u001b[49m\n\u001b[1;32m      6\u001b[0m \u001b[38;5;28;01mfor\u001b[39;00m i \u001b[38;5;129;01min\u001b[39;00m \u001b[38;5;28mrange\u001b[39m (\u001b[38;5;241m1\u001b[39m, \u001b[38;5;241m11\u001b[39m):\n\u001b[1;32m      7\u001b[0m     \u001b[38;5;28mprint\u001b[39m (number, \u001b[38;5;124m'\u001b[39m\u001b[38;5;124mx\u001b[39m\u001b[38;5;124m'\u001b[39m, i, \u001b[38;5;124m'\u001b[39m\u001b[38;5;124m=\u001b[39m\u001b[38;5;124m'\u001b[39m, i\u001b[38;5;241m*\u001b[39mnumber)\n",
      "\u001b[0;31mValueError\u001b[0m: invalid literal for int() with base 10: ''"
     ]
    }
   ],
   "source": [
    "# question 2, for loop i:\n",
    "#Write some code that prompts the user for a number, then shows a multiplication table up through 10 for that number.\n",
    "\n",
    "number = int(input(\"Select a number 1-10:  \"))\n",
    "\n",
    "for i in range (1, 11):\n",
    "    print (number, 'x', i, '=', i*number)"
   ]
  },
  {
   "cell_type": "code",
   "execution_count": 4,
   "id": "d73b0a25",
   "metadata": {},
   "outputs": [
    {
     "name": "stdout",
     "output_type": "stream",
     "text": [
      "1\n",
      "22\n",
      "333\n",
      "4444\n",
      "55555\n",
      "666666\n",
      "7777777\n",
      "88888888\n",
      "999999999\n"
     ]
    }
   ],
   "source": [
    "# question 2, for loop ii:\n",
    "# write a code that prints the following:\n",
    "# 1\n",
    "# 22\n",
    "# 333\n",
    "# 4444\n",
    "# 55555\n",
    "# 666666\n",
    "# 7777777\n",
    "# 88888888\n",
    "# 999999999\n",
    "i = 0\n",
    "for i in range (1, 10):\n",
    "    print(str(i)*i)"
   ]
  },
  {
   "cell_type": "code",
   "execution_count": 5,
   "id": "ac24e9d9",
   "metadata": {},
   "outputs": [
    {
     "name": "stdout",
     "output_type": "stream",
     "text": [
      "Pick a number, any number! \n"
     ]
    },
    {
     "ename": "ValueError",
     "evalue": "invalid literal for int() with base 10: ''",
     "output_type": "error",
     "traceback": [
      "\u001b[0;31m---------------------------------------------------------------------------\u001b[0m",
      "\u001b[0;31mValueError\u001b[0m                                Traceback (most recent call last)",
      "Input \u001b[0;32mIn [5]\u001b[0m, in \u001b[0;36m<cell line: 5>\u001b[0;34m()\u001b[0m\n\u001b[1;32m      1\u001b[0m \u001b[38;5;66;03m#2, break and continue i: \u001b[39;00m\n\u001b[1;32m      2\u001b[0m \u001b[38;5;66;03m#Write a program that prompts the user for a positive integer. \u001b[39;00m\n\u001b[1;32m      3\u001b[0m \u001b[38;5;66;03m#Next write a loop that prints out the numbers from the number the user entered down to 1.\u001b[39;00m\n\u001b[0;32m----> 5\u001b[0m number \u001b[38;5;241m=\u001b[39m \u001b[38;5;28;43mint\u001b[39;49m\u001b[43m(\u001b[49m\u001b[38;5;28;43minput\u001b[39;49m\u001b[43m(\u001b[49m\u001b[38;5;124;43m\"\u001b[39;49m\u001b[38;5;124;43mPick a number, any number! \u001b[39;49m\u001b[38;5;124;43m\"\u001b[39;49m\u001b[43m)\u001b[49m\u001b[43m)\u001b[49m\n\u001b[1;32m      6\u001b[0m \u001b[38;5;28;01mwhile\u001b[39;00m number \u001b[38;5;241m>\u001b[39m\u001b[38;5;241m=\u001b[39m \u001b[38;5;241m1\u001b[39m:\n\u001b[1;32m      7\u001b[0m     \u001b[38;5;28mprint\u001b[39m(number)\n",
      "\u001b[0;31mValueError\u001b[0m: invalid literal for int() with base 10: ''"
     ]
    }
   ],
   "source": [
    "#2, break and continue i: \n",
    "#Write a program that prompts the user for a positive integer. \n",
    "#Next write a loop that prints out the numbers from the number the user entered down to 1.\n",
    "\n",
    "number = int(input(\"Pick a number, any number! \"))\n",
    "while number >= 1:\n",
    "    print(number)\n",
    "    number -= 1"
   ]
  },
  {
   "cell_type": "code",
   "execution_count": null,
   "id": "d709903f",
   "metadata": {},
   "outputs": [],
   "source": [
    "# 2, break and continue ii:\n",
    "#Prompt the user to enter a positive number and write a loop that counts from 0 to that number.\n",
    "\n",
    "number = int(input(\"Pick a positive number, any positive number! \"))\n",
    "for i in range (-1, number):\n",
    "    print(i + 1)\n",
    "   "
   ]
  },
  {
   "cell_type": "code",
   "execution_count": null,
   "id": "22d47e50",
   "metadata": {},
   "outputs": [],
   "source": [
    "# 2, break and continue iii:\n",
    "# odd numbers 1-50 except skipped input number\n",
    "while True:\n",
    "    test_number = input(\"Number to skip is: \")\n",
    "    if not test_number.isdigit() and if not test_number.isdigit() % 2 == 1:\n",
    "        print(\"Sorry, please enter an odd number.\")\n",
    "\n",
    "        "
   ]
  },
  {
   "cell_type": "code",
   "execution_count": null,
   "id": "6484e575",
   "metadata": {},
   "outputs": [],
   "source": [
    "test_number = input(\"Number to skip is: \")\n",
    "print(test_number.isdigit())"
   ]
  },
  {
   "cell_type": "code",
   "execution_count": null,
   "id": "ccad4984",
   "metadata": {},
   "outputs": [],
   "source": [
    "else:\n",
    "        for i in range (0, 50):\n",
    "            if i == test_number\n",
    "                break\n",
    "            else \n",
    "                print(i + 1)\n",
    "\n"
   ]
  },
  {
   "cell_type": "code",
   "execution_count": null,
   "id": "fdd28d2a",
   "metadata": {},
   "outputs": [],
   "source": [
    "while True:\n",
    "    user_num = int(input(\"Enter a number: \"))\n",
    "\n",
    "    for i in range(1, user_num +1):\n",
    "        print(f'{i}  |{i**2}   |{i**3}')\n",
    "    user_yn = input(\"Would you like to continue? (y/n) \")\n",
    "    if user_yn.lower() !='y':\n",
    "        break\n",
    "         \n"
   ]
  },
  {
   "cell_type": "code",
   "execution_count": null,
   "id": "b855ce22",
   "metadata": {},
   "outputs": [],
   "source": [
    "while True:\n",
    "    user_grade = int(input(\"enter a numerical grade 0-100\"))\n",
    "\n",
    "    if user_grade >= 88:\n",
    "        print('A')\n",
    "    elif user_grade >= 80:\n",
    "        print('B')\n",
    "    elif user_grade >= 67:\n",
    "        print('C')\n",
    "    elif user_grade >= 60:\n",
    "        print ('D')\n",
    "    else:\n",
    "        print('F')\n",
    "    user_yn = input(\"would you like to continue? (y/n)\")\n",
    "    if"
   ]
  },
  {
   "cell_type": "code",
   "execution_count": null,
   "id": "3ecdb2de",
   "metadata": {},
   "outputs": [],
   "source": []
  }
 ],
 "metadata": {
  "kernelspec": {
   "display_name": "Python 3 (ipykernel)",
   "language": "python",
   "name": "python3"
  },
  "language_info": {
   "codemirror_mode": {
    "name": "ipython",
    "version": 3
   },
   "file_extension": ".py",
   "mimetype": "text/x-python",
   "name": "python",
   "nbconvert_exporter": "python",
   "pygments_lexer": "ipython3",
   "version": "3.9.12"
  }
 },
 "nbformat": 4,
 "nbformat_minor": 5
}
